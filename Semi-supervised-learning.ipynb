{
 "cells": [
  {
   "cell_type": "code",
   "execution_count": null,
   "metadata": {},
   "outputs": [],
   "source": [
    "from sklearn.datasets import make_classification\n",
    "\n",
    "# Generate fake classification data\n",
    "n_samples = 1000  # Number of samples\n",
    "n_features = 10  # Number of features\n",
    "n_classes = 4    # Number of classes\n",
    "\n",
    "X, y = make_classification(\n",
    "    n_samples=n_samples,\n",
    "    n_features=n_features,\n",
    "    n_informative=n_features,\n",
    "    n_redundant=0,\n",
    "    n_classes=n_classes,\n",
    "    random_state=42\n",
    ")"
   ]
  },
  {
   "cell_type": "code",
   "execution_count": null,
   "metadata": {},
   "outputs": [],
   "source": [
    "X_label,y_label = X_train[:400],y_train_true[:400]\n",
    "X_unlabelled = X_train[400:]"
   ]
  },
  {
   "cell_type": "code",
   "execution_count": null,
   "metadata": {},
   "outputs": [],
   "source": [
    "import pandas as pd\n",
    "import numpy as np\n",
    "\n",
    "#sklearn.datasets generate np.arrays. Converting to pandas \n",
    "X_label = pd.DataFrame(X_label)\n",
    "y_label = pd.Series(y_label)\n",
    "X_unlabelled = pd.DataFrame(X_unlabelled)\n",
    "\n",
    "# Self Learning Algorithm\n",
    "while True:\n",
    "    model = xgb.XGBClassifier(\n",
    "        objective='multi:softmax',\n",
    "        num_class=n_classes,\n",
    "        random_state=42)\n",
    "\n",
    "    # Train the model\n",
    "    model.fit(X_label, y_label)\n",
    "\n",
    "    # Get probability predictions on unlabeled data\n",
    "    X_unlabelled.reset_index(drop=True, inplace=True)\n",
    "    y_pred = model.predict_proba(X_unlabelled)\n",
    "    \n",
    "    # get samples where probability >0.9 for atleast one class\n",
    "    index = [ index for index,x in enumerate(np.max(y_pred,axis=1)) if x > 0.90]\n",
    "    if len(index)==0:\n",
    "        break\n",
    "        \n",
    "    temp = X_unlabelled.iloc[index]\n",
    "    \n",
    "    # drop high probability samples from unlabeled data and append to labeled data\n",
    "    X_unlabelled.drop(index,inplace=True)\n",
    "    \n",
    "    pred = pd.Series(model.predict(temp))\n",
    "    \n",
    "    X_label=X_label.append(temp,ignore_index=True)\n",
    "    y_label=y_label.append(pred,ignore_index=True)"
   ]
  },
  {
   "cell_type": "code",
   "execution_count": null,
   "metadata": {},
   "outputs": [],
   "source": [
    "model = xgb.XGBClassifier(\n",
    "    objective='multi:softmax',\n",
    "    num_class=n_classes,\n",
    "    random_state=42\n",
    ")\n",
    "\n",
    "# Train the model\n",
    "model.fit(X_label, y_label)\n",
    "\n",
    "# Make predictions on the test set\n",
    "y_pred = model.predict(X_test)\n",
    "\n",
    "# Calculate accuracy\n",
    "accuracy = accuracy_score(y_test_true, y_pred)\n",
    "print(\"Accuracy:\", accuracy)"
   ]
  }
 ],
 "metadata": {
  "language_info": {
   "name": "python"
  }
 },
 "nbformat": 4,
 "nbformat_minor": 2
}
